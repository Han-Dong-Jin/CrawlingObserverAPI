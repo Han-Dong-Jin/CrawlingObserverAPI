{
 "cells": [
  {
   "cell_type": "code",
   "execution_count": null,
   "metadata": {},
   "outputs": [],
   "source": [
    "# !poetry run python main.py"
   ]
  },
  {
   "cell_type": "code",
   "execution_count": null,
   "metadata": {},
   "outputs": [],
   "source": [
    "from lib.Crawling import run  # 크롤링 실행 함수\n",
    "# from Utill.Socket.Server import SocketServer  # 소켓 서버\n",
    "\n",
    "def main():\n",
    "    # 크롤러 실행\n",
    "    run()\n",
    "    \n",
    "    # # 소켓 서버 실행 (외부 요청 대기)\n",
    "    # server = SocketServer()\n",
    "    # server.run()\n",
    "\n",
    "if __name__ == \"__main__\":\n",
    "    main()"
   ]
  }
 ],
 "metadata": {
  "kernelspec": {
   "display_name": "crawlingobserver--YEX-iaI-py3.11",
   "language": "python",
   "name": "python3"
  },
  "language_info": {
   "codemirror_mode": {
    "name": "ipython",
    "version": 3
   },
   "file_extension": ".py",
   "mimetype": "text/x-python",
   "name": "python",
   "nbconvert_exporter": "python",
   "pygments_lexer": "ipython3",
   "version": "3.11.9"
  }
 },
 "nbformat": 4,
 "nbformat_minor": 2
}
