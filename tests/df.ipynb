{
 "cells": [
  {
   "cell_type": "code",
   "execution_count": null,
   "metadata": {},
   "outputs": [],
   "source": [
    "import pandas as pd\n",
    "from tabulate import tabulate\n",
    "\n",
    "# CSV 파일을 DataFrame으로 변환하여 출력하는 함수\n",
    "def display_csv_as_table(file_path):\n",
    "    # CSV 파일을 pandas DataFrame으로 읽기\n",
    "    df = pd.read_csv(file_path)\n",
    "    \n",
    "    # tabulate를 사용하여 표 형태로 출력\n",
    "    print(tabulate(df, headers='keys', tablefmt='grid'))\n",
    "\n",
    "path = \"crawled_data_20250317_193950_balance_sheet_1_993f1e5f\"\n",
    "# 사용 예시 (파일 경로를 적절히 변경)\n",
    "csv_file_path = f\"../lib/Datas/{path}.csv\"  # 여기에 CSV 파일 경로 입력\n",
    "display_csv_as_table(csv_file_path)"
   ]
  }
 ],
 "metadata": {
  "kernelspec": {
   "display_name": "crawlingobserver--YEX-iaI-py3.11",
   "language": "python",
   "name": "python3"
  },
  "language_info": {
   "codemirror_mode": {
    "name": "ipython",
    "version": 3
   },
   "file_extension": ".py",
   "mimetype": "text/x-python",
   "name": "python",
   "nbconvert_exporter": "python",
   "pygments_lexer": "ipython3",
   "version": "3.11.9"
  }
 },
 "nbformat": 4,
 "nbformat_minor": 2
}
