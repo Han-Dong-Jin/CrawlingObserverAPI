{
 "cells": [
  {
   "cell_type": "code",
   "execution_count": null,
   "metadata": {},
   "outputs": [],
   "source": [
    "import sys\n",
    "import os\n",
    "import json\n",
    "from lib.Crawling.News import ReutersCrawler, CNNCrawler, BBCCrawler, CNBCCrawler\n",
    "from lib.Crawling.Utils.save_data import save_to_json\n",
    "\n",
    "sys.path.append(os.path.abspath(os.getcwd()))\n",
    "\n",
    "# 설정 파일 로드\n",
    "with open(\"lib/Crawling/config/config.json\", \"r\") as file:\n",
    "    config = json.load(file)"
   ]
  },
  {
   "cell_type": "code",
   "execution_count": null,
   "metadata": {},
   "outputs": [],
   "source": [
    "# 크롤러 실행\n",
    "scrapers = [\n",
    "    ReutersCrawler(config[\"Reuters\"]),\n",
    "    CNNCrawler(config[\"CNN\"]),\n",
    "    BBCCrawler(config[\"BBC\"]),\n",
    "    CNBCCrawler(config[\"CNBC\"])\n",
    "]\n",
    "\n",
    "news_data = []\n",
    "for scraper in scrapers:\n",
    "    news_data.extend(scraper.fetch_news())"
   ]
  },
  {
   "cell_type": "code",
   "execution_count": null,
   "metadata": {},
   "outputs": [],
   "source": [
    "# 데이터 저장 및 출력\n",
    "save_to_json(news_data)\n",
    "news_data[:5]  # 일부 데이터 미리보기"
   ]
  }
 ],
 "metadata": {
  "kernelspec": {
   "display_name": "crawlingapi-j8eQD3hV-py3.11",
   "language": "python",
   "name": "python3"
  },
  "language_info": {
   "codemirror_mode": {
    "name": "ipython",
    "version": 3
   },
   "file_extension": ".py",
   "mimetype": "text/x-python",
   "name": "python",
   "nbconvert_exporter": "python",
   "pygments_lexer": "ipython3",
   "version": "3.11.9"
  }
 },
 "nbformat": 4,
 "nbformat_minor": 2
}
